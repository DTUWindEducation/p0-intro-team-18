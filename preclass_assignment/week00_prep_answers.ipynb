{
 "cells": [
  {
   "cell_type": "markdown",
   "metadata": {},
   "source": [
    "Define a function called greet that takes a name as a string, then prints \"Hello, <name>!\" to the screen.\n",
    "\n",
    "Example input and output in Python:\n",
    "\n",
    ">>> greet('world')\n",
    "Hello, world!"
   ]
  },
  {
   "cell_type": "code",
   "execution_count": 7,
   "metadata": {},
   "outputs": [
    {
     "name": "stdout",
     "output_type": "stream",
     "text": [
      "Hello, world!\n"
     ]
    }
   ],
   "source": [
    "def greet(person):\n",
    "    print(\"Hello, \"+ person+ \"!\")\n",
    "    \n",
    "greet('world')"
   ]
  },
  {
   "cell_type": "markdown",
   "metadata": {},
   "source": [
    "Goldilocks is 135 cm tall, and she is very picky about the size of her bed. If the bed is shorter than 140 cm, or larger than 150 cm, then she is unhappy. Write a function called goldilocks that takes the length of a bed in cm and prints whether goldilocks is happy with it. Be sure to distinguish whether the bed is too small or too large!\n",
    "\n",
    "Example input and output in Python:\n",
    "\n",
    ">>> goldilocks(139)\n",
    "Too small!\n",
    ">>> goldilocks(140)\n",
    "Just right. :)\n",
    ">>> goldilocks(151)\n",
    "Too large!\n",
    ">>> goldilocks(150)\n",
    "Just right. :)"
   ]
  },
  {
   "cell_type": "code",
   "execution_count": 8,
   "metadata": {},
   "outputs": [
    {
     "name": "stdout",
     "output_type": "stream",
     "text": [
      "Too small\n",
      "Just right\n",
      "Just right\n",
      "Too large\n"
     ]
    }
   ],
   "source": [
    "def goldilocks(bedSize):\n",
    "    if bedSize<140:\n",
    "        print(\"Too small\")\n",
    "    elif bedSize>150:\n",
    "        print(\"Too large\")\n",
    "    else:\n",
    "        print(\"Just right\")\n",
    "\n",
    "goldilocks(139)\n",
    "goldilocks(140)\n",
    "goldilocks(150)\n",
    "goldilocks(151)"
   ]
  },
  {
   "cell_type": "markdown",
   "metadata": {},
   "source": [
    "Write a function called square_list that takes a list of numbers and returns a list where each element has been squared.\n",
    "\n",
    "Example input and output in Python:\n",
    "\n",
    ">>> square_list([1, 2, 3])\n",
    "[1, 4, 9]"
   ]
  },
  {
   "cell_type": "code",
   "execution_count": 12,
   "metadata": {},
   "outputs": [
    {
     "name": "stdout",
     "output_type": "stream",
     "text": [
      "[1, 4, 9]\n"
     ]
    }
   ],
   "source": [
    "def square_list(num_list):\n",
    "    sqd_list=[]\n",
    "    for number in num_list:\n",
    "        squared = number**2\n",
    "        sqd_list.append(squared)\n",
    "    print(sqd_list)\n",
    "    \n",
    "square_list([1, 2, 3])"
   ]
  },
  {
   "cell_type": "markdown",
   "metadata": {},
   "source": [
    "Write a function called fibonacci_stop that returns a list of the Fibonacci numbers up to a specified maximum value. Recall that the Fibonacci sequence is a sequence in which the next number is the sum of the previous two numbers: 1, 1, 2, 3, 5, etc.\n",
    "\n",
    "Example input and output in Python:\n",
    "\n",
    ">>> fibonacci_stop(30)\n",
    "[1, 1, 2, 3, 5, 8, 13, 21]"
   ]
  },
  {
   "cell_type": "code",
   "execution_count": 13,
   "metadata": {},
   "outputs": [
    {
     "name": "stdout",
     "output_type": "stream",
     "text": [
      "[1, 1, 2, 3, 5, 8, 13, 21]\n"
     ]
    }
   ],
   "source": [
    "def fibonacci_stop(max_num):\n",
    "    current_val=1\n",
    "    prev_val=0\n",
    "    temp_current_val=-1\n",
    "    seq_list=[]\n",
    "    while current_val<max_num:\n",
    "        temp_current_val=current_val\n",
    "        current_val+=prev_val\n",
    "        prev_val=temp_current_val\n",
    "        \n",
    "        seq_list.append(prev_val)\n",
    "    print(seq_list)\n",
    "    \n",
    "fibonacci_stop(30)"
   ]
  },
  {
   "cell_type": "markdown",
   "metadata": {},
   "source": [
    "Instruments sometimes malfunction, returning incorrect values that can corrupt our analyses. Pretend we have an instrument that returns the pitch angle of a wind turbine blade, which usually ranges from 0 to 90 degrees, but can report occasional values outside that range. The instrument also records a status signal, where 0 indicates that it is functioning normally but a positive value indicates some sort of malfunction. If a pitch angle is outside of [0, 90] degrees and the instrument is malfunctioning, we want to set the pitch angle to -999 to indicate a bad value. We ignore non-zero status signals if the pitch angle is in the correct range.\n",
    "\n",
    "Define a function called clean_pitch that takes two lists, one representing measurements from the pitch instrument at certain points in time and the other representing the corresponding status signal. The function should return a cleaned list of the pitch angle, where “good” values are untouched and “bad” values are set to -999.\n",
    "\n",
    "Example input and output in Python:\n",
    "\n",
    ">>> x = [-1, 2, 6, 95]  # \"raw\" pitch angle at four time steps\n",
    ">>> status = [1, 0, 0, 0]  # status signal\n",
    ">>> clean_pitch(x, status)\n",
    "[-999, 2, 6, 95]"
   ]
  },
  {
   "cell_type": "code",
   "execution_count": 16,
   "metadata": {},
   "outputs": [
    {
     "name": "stdout",
     "output_type": "stream",
     "text": [
      "[-999, 2, 6, 95]\n"
     ]
    }
   ],
   "source": [
    "def clean_pitch(x, status):\n",
    "    cleaned_x=[]\n",
    "    for index in range(len(x)):\n",
    "        if (x[index]>90 or x[index]<0) and status[index]==1:\n",
    "            cleaned_x.append(-999)\n",
    "        else:\n",
    "            cleaned_x.append(x[index])\n",
    "    print(cleaned_x)\n",
    "    \n",
    "clean_pitch([-1, 2, 6, 95], [1, 0, 0, 0])"
   ]
  },
  {
   "cell_type": "code",
   "execution_count": null,
   "metadata": {},
   "outputs": [],
   "source": []
  }
 ],
 "metadata": {
  "kernelspec": {
   "display_name": "base",
   "language": "python",
   "name": "python3"
  },
  "language_info": {
   "codemirror_mode": {
    "name": "ipython",
    "version": 3
   },
   "file_extension": ".py",
   "mimetype": "text/x-python",
   "name": "python",
   "nbconvert_exporter": "python",
   "pygments_lexer": "ipython3",
   "version": "3.12.4"
  }
 },
 "nbformat": 4,
 "nbformat_minor": 2
}
